{
 "cells": [
  {
   "cell_type": "code",
   "execution_count": null,
   "metadata": {},
   "outputs": [],
   "source": []
  },
  {
   "cell_type": "code",
   "execution_count": null,
   "metadata": {},
   "outputs": [],
   "source": []
  },
  {
   "cell_type": "code",
   "execution_count": 1,
   "metadata": {},
   "outputs": [],
   "source": [
    "import tensorflow as tf\n",
    "import numpy as np\n",
    "from game_2048 import Game\n",
    "from random import randint\n",
    "\n",
    "def model_loss(model, Qtarget):\n",
    "\tloss = tf.reduce_mean(tf.square(model - Qtarget))\n",
    "\treturn loss\n",
    "\n",
    "def get_data(size):\n",
    "    game = Game(4)\n",
    "    rewards = []\n",
    "    states = []\n",
    "    for _ in range(size):\n",
    "        if game.game_over():\n",
    "            game.reset()\n",
    "\n",
    "        index = randint(0, len(states))\n",
    "\n",
    "        array = np.copy(game.array)\n",
    "        reward = []\n",
    "\n",
    "        states.insert(index, game.array.flatten())\n",
    "\n",
    "        for i in range(1):\n",
    "            reward.append(game.step(i))\n",
    "            game.array = np.copy(array)\n",
    "        game.step(randint(0,3))\n",
    "\n",
    "        rewards.insert(index,reward)\n",
    "\n",
    "\n",
    "\n",
    "    return np.array(states), np.array(rewards)\n"
   ]
  },
  {
   "cell_type": "code",
   "execution_count": 2,
   "metadata": {},
   "outputs": [],
   "source": [
    "def create_layer(X, n, activation):\n",
    "    ndim = int(X.shape[0])\n",
    "    stddev = 2.0/np.sqrt(ndim)\n",
    "    initialization = tf.truncated_normal([n, ndim], stddev = stddev)\n",
    "    W = tf.Variable(initialization)\n",
    "    b = tf.Variable(tf.zeros([n,1]))\n",
    "    Z = tf.matmul(W, X) + b\n",
    "    return activation(Z), W, b"
   ]
  },
  {
   "cell_type": "code",
   "execution_count": 3,
   "metadata": {},
   "outputs": [],
   "source": [
    "train_X, train_Y = get_data(2000)\n",
    "train_X = train_X.transpose()\n",
    "train_Y = train_Y.transpose()"
   ]
  },
  {
   "cell_type": "code",
   "execution_count": 4,
   "metadata": {},
   "outputs": [
    {
     "name": "stdout",
     "output_type": "stream",
     "text": [
      "WARNING:tensorflow:From C:\\Users\\Joely\\Desktop\\logiciel\\Anaconda\\envs\\tensorflow\\lib\\site-packages\\tensorflow\\python\\framework\\op_def_library.py:263: colocate_with (from tensorflow.python.framework.ops) is deprecated and will be removed in a future version.\n",
      "Instructions for updating:\n",
      "Colocations handled automatically by placer.\n"
     ]
    }
   ],
   "source": [
    "n_dim = 16\n",
    "n1 = 8\n",
    "n2 = 4\n",
    "n_output = 1\n",
    "X = tf.placeholder(tf.float32, [n_dim, None])\n",
    "Y = tf.placeholder(tf.float32, [1, None])\n",
    "learning_rate = tf.placeholder(tf.float32, shape=())\n",
    "lmbd = tf.placeholder(tf.float32, shape=())\n",
    "training_epochs = 2000\n",
    "hidden1, W1, b1 = create_layer(X, n1, activation = tf.nn.relu)\n",
    "hidden2, W2, b2 = create_layer(hidden1, n2, activation = tf.nn.relu)\n",
    "y_, W5, b5 = create_layer(hidden2, n_output, activation = tf.identity)\n",
    "reg = tf.nn.l2_loss(W1) + tf.nn.l2_loss(W2) + tf.nn.l2_loss(W5)\n",
    "learning_rate = tf.train.exponential_decay(0.1, 309, training_epochs, 0.1)\n",
    "\n",
    "cost = tf.reduce_mean(tf.square(y_ - Y))\n",
    "optimizer = tf.train.AdamOptimizer(learning_rate = learning_rate, beta1 = 0.9, beta2 = 0.999, epsilon = 1e-8).minimize(cost)\n",
    "\n",
    "correct_prediction = tf.equal(y_, Y)\n",
    "accuracy = tf.reduce_mean(tf.cast(correct_prediction, tf.float32))"
   ]
  },
  {
   "cell_type": "code",
   "execution_count": null,
   "metadata": {},
   "outputs": [
    {
     "name": "stdout",
     "output_type": "stream",
     "text": [
      "Reached epoch  0  cost J(train) =  156860.1\n",
      "Accuracy 0.0\n",
      "Reached epoch  1000  cost J(train) =  22549.184\n",
      "Accuracy 0.0\n",
      "Reached epoch  2000  cost J(train) =  22622.129\n",
      "Accuracy 0.0\n",
      "Reached epoch  3000  cost J(train) =  22395.746\n",
      "Accuracy 0.0\n",
      "Reached epoch  4000  cost J(train) =  22661.611\n",
      "Accuracy 0.0\n",
      "Reached epoch  5000  cost J(train) =  22390.729\n",
      "Accuracy 0.0\n",
      "Reached epoch  6000  cost J(train) =  22496.828\n",
      "Accuracy 0.0\n",
      "Reached epoch  7000  cost J(train) =  22568.887\n",
      "Accuracy 0.0\n",
      "Reached epoch  8000  cost J(train) =  22482.412\n",
      "Accuracy 0.0\n",
      "Reached epoch  9000  cost J(train) =  22652.36\n",
      "Accuracy 0.0\n",
      "Reached epoch  10000  cost J(train) =  22497.955\n",
      "Accuracy 0.0\n",
      "Reached epoch  11000  cost J(train) =  22484.34\n",
      "Accuracy 0.0\n"
     ]
    }
   ],
   "source": [
    "sess = tf.Session()\n",
    "sess.run(tf.global_variables_initializer())\n",
    "learning_r = tf.placeholder(tf.float32, shape=())\n",
    "\n",
    "cost_train_history = []\n",
    "\n",
    "for epoch in range(100000 + 1):\n",
    "    sess.run(optimizer, feed_dict = {X: train_X, Y: train_Y, learning_rate: 0.5, lmbd: 0.7})\n",
    "    cost_train_ = sess.run(cost, feed_dict = {X: train_X, Y: train_Y, learning_rate: 0.5, lmbd: 0.7})\n",
    "    cost_train_history = np.append(cost_train_history, cost_train_)\n",
    "    acc = sess.run(accuracy, feed_dict={X: train_X, Y: train_Y})\n",
    "    if(epoch % 1000 == 0):\n",
    "        print(\"Reached epoch \", epoch, \" cost J(train) = \", cost_train_)\n",
    "        print(\"Accuracy\", acc)"
   ]
  },
  {
   "cell_type": "code",
   "execution_count": null,
   "metadata": {},
   "outputs": [],
   "source": []
  }
 ],
 "metadata": {
  "kernelspec": {
   "display_name": "Python 3",
   "language": "python",
   "name": "python3"
  },
  "language_info": {
   "codemirror_mode": {
    "name": "ipython",
    "version": 3
   },
   "file_extension": ".py",
   "mimetype": "text/x-python",
   "name": "python",
   "nbconvert_exporter": "python",
   "pygments_lexer": "ipython3",
   "version": "3.6.8"
  }
 },
 "nbformat": 4,
 "nbformat_minor": 2
}
