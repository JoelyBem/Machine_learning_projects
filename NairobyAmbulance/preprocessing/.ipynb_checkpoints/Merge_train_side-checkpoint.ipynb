{
 "cells": [
  {
   "cell_type": "code",
   "execution_count": 1,
   "metadata": {},
   "outputs": [],
   "source": [
    "import numpy as np\n",
    "import pandas as pd\n",
    "import geopandas as gpd"
   ]
  },
  {
   "cell_type": "code",
   "execution_count": 6,
   "metadata": {},
   "outputs": [],
   "source": [
    "data = pd.read_csv('../Data/data_train_limited.csv', parse_dates=['datetime'])\n",
    "weather = pd.read_csv('../Data/Weather_Nairobi_Daily_GFS.csv', parse_dates=['Date'])\n",
    "road_segment_locs = gpd.read_file('../segments_geometry.geojson')\n",
    "road_surveys = pd.read_csv('../Data/Segment_info.csv')"
   ]
  },
  {
   "cell_type": "code",
   "execution_count": 7,
   "metadata": {},
   "outputs": [],
   "source": [
    "def mergeWeatherData(weather,data):\n",
    "    data['Date'] = [d.date() for d in data['datetime']]\n",
    "    data['time'] = [d.time() for d in data['datetime']]\n",
    "    data['Date'] = data['Date'].astype('datetime64[ns]')\n",
    "    data = data.drop(['uid'],axis=1)\n",
    "    data_train = pd.merge(data, weather, how='left', on='Date')\n",
    "    data_train = data_train.set_index('datetime')\n",
    "    return data_train"
   ]
  },
  {
   "cell_type": "code",
   "execution_count": 8,
   "metadata": {},
   "outputs": [],
   "source": [
    "data_merged = mergeWeatherData(weather,data)"
   ]
  },
  {
   "cell_type": "code",
   "execution_count": 9,
   "metadata": {},
   "outputs": [],
   "source": [
    "def getNeighbourSegment(location, segments):\n",
    "    result = 0\n",
    "    dists = []\n",
    "    for segment in segments:\n",
    "        dist = []\n",
    "        for loc in segment:\n",
    "            d = ((location[0] - loc[0])**2 + (location[1] - location[1])**2)**0.5\n",
    "            dist.append(d)\n",
    "        dists.append(min(dist))\n",
    "    return np.argmin(dists)"
   ]
  },
  {
   "cell_type": "code",
   "execution_count": 23,
   "metadata": {},
   "outputs": [],
   "source": [
    "def getDataTrain(data_merged,road_data):\n",
    "    column_names = list(data_merged.columns) + list(road_data.columns[4:]) + ['segment_id'] + ['side'] +['accident'] \n",
    "    data_train = pd.DataFrame(columns = column_names)\n",
    "    segments = road_segment_locs['geometry'].apply(lambda x: np.array(x)).values\n",
    "    data_range = range(data_merged.shape[0])\n",
    "    length = data_merged.shape[0]\n",
    "    for i in data_range:\n",
    "        segment = getNeighbourSegment([data_merged.iloc[i]['longitude'],data_merged.iloc[i]['latitude']],segments)\n",
    "        d = {}\n",
    "        for column in data_merged.columns:\n",
    "            d[column] = data_merged.iloc[i][column]\n",
    "        for column in road_data.columns[4:]:\n",
    "            d[column] = road_data.iloc[segment][column]\n",
    "        segment_id = road_data['segment_id'][segment]\n",
    "        segment_side = road_data['side'][segment]\n",
    "        d['side'] = segment_side\n",
    "        d['segment_id'] = segment_id\n",
    "        d['accident'] = 1\n",
    "        data_train = data_train.append(d, ignore_index=True)\n",
    "    return data_train"
   ]
  },
  {
   "cell_type": "code",
   "execution_count": 24,
   "metadata": {},
   "outputs": [],
   "source": [
    "segments_merged = pd.merge(road_segment_locs, road_surveys, on='segment_id', how='left')"
   ]
  },
  {
   "cell_type": "code",
   "execution_count": null,
   "metadata": {},
   "outputs": [],
   "source": [
    "train_data = getDataTrain(data_merged,segments_merged)"
   ]
  },
  {
   "cell_type": "code",
   "execution_count": null,
   "metadata": {},
   "outputs": [],
   "source": [
    "train_data.to_csv('../Data/data_merged_limited.csv')"
   ]
  },
  {
   "cell_type": "code",
   "execution_count": null,
   "metadata": {},
   "outputs": [],
   "source": []
  }
 ],
 "metadata": {
  "kernelspec": {
   "display_name": "Python 3",
   "language": "python",
   "name": "python3"
  },
  "language_info": {
   "codemirror_mode": {
    "name": "ipython",
    "version": 3
   },
   "file_extension": ".py",
   "mimetype": "text/x-python",
   "name": "python",
   "nbconvert_exporter": "python",
   "pygments_lexer": "ipython3",
   "version": "3.8.5"
  }
 },
 "nbformat": 4,
 "nbformat_minor": 4
}
