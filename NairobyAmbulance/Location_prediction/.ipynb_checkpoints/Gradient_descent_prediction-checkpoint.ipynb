{
 "cells": [
  {
   "cell_type": "markdown",
   "metadata": {},
   "source": [
    "#### Author: JoelyBem\n",
    "#### Created on: 13 November 2020 21:29\n",
    "#### Last Update: 14 November 2020 09:09"
   ]
  },
  {
   "cell_type": "markdown",
   "metadata": {},
   "source": [
    "### Gradient descent for distance minimisation:\n",
    "- Initialize random 6 locations for 6 ambulances\n",
    "- For each crash:\n",
    "    - Caclulate the distance between crash and all ambulance\n",
    "    - Taking the minimum distance\n",
    "- Loss is equal to the mean of distance of all crash and ambulance\n",
    "- We consider only one model for all crash \n",
    "- Consider only longitude and latitude [Not considering hour and days]\n",
    "- ==> We have only one locations for all hours for all day"
   ]
  },
  {
   "cell_type": "code",
   "execution_count": 1,
   "metadata": {},
   "outputs": [
    {
     "name": "stdout",
     "output_type": "stream",
     "text": [
      "WARNING:tensorflow:From C:\\ProgramData\\Miniconda3\\envs\\tensorflow_env\\lib\\site-packages\\tensorflow_core\\python\\compat\\v2_compat.py:65: disable_resource_variables (from tensorflow.python.ops.variable_scope) is deprecated and will be removed in a future version.\n",
      "Instructions for updating:\n",
      "non-resource variables are not supported in the long term\n"
     ]
    }
   ],
   "source": [
    "import tensorflow.compat.v1 as tf\n",
    "tf.disable_v2_behavior()\n",
    "import matplotlib.pyplot as plt\n",
    "import pandas as pd\n",
    "import datetime as dt\n",
    "import numpy as np\n",
    "from sklearn.cluster import KMeans\n",
    "import random\n",
    "import datetime\n",
    "import seaborn as sns"
   ]
  },
  {
   "cell_type": "code",
   "execution_count": 2,
   "metadata": {},
   "outputs": [
    {
     "name": "stdout",
     "output_type": "stream",
     "text": [
      "(6318, 9)\n"
     ]
    },
    {
     "data": {
      "text/html": [
       "<div>\n",
       "<style scoped>\n",
       "    .dataframe tbody tr th:only-of-type {\n",
       "        vertical-align: middle;\n",
       "    }\n",
       "\n",
       "    .dataframe tbody tr th {\n",
       "        vertical-align: top;\n",
       "    }\n",
       "\n",
       "    .dataframe thead th {\n",
       "        text-align: right;\n",
       "    }\n",
       "</style>\n",
       "<table border=\"1\" class=\"dataframe\">\n",
       "  <thead>\n",
       "    <tr style=\"text-align: right;\">\n",
       "      <th></th>\n",
       "      <th>uid</th>\n",
       "      <th>datetime</th>\n",
       "      <th>latitude</th>\n",
       "      <th>longitude</th>\n",
       "      <th>date</th>\n",
       "      <th>time</th>\n",
       "      <th>day_of_week</th>\n",
       "      <th>month</th>\n",
       "      <th>year</th>\n",
       "    </tr>\n",
       "  </thead>\n",
       "  <tbody>\n",
       "    <tr>\n",
       "      <th>0</th>\n",
       "      <td>1</td>\n",
       "      <td>2018-01-01 00:25:46</td>\n",
       "      <td>-1.188850</td>\n",
       "      <td>36.931382</td>\n",
       "      <td>2018-01-01</td>\n",
       "      <td>00:25:46</td>\n",
       "      <td>Monday</td>\n",
       "      <td>January</td>\n",
       "      <td>2018</td>\n",
       "    </tr>\n",
       "    <tr>\n",
       "      <th>1</th>\n",
       "      <td>2</td>\n",
       "      <td>2018-01-01 02:02:39</td>\n",
       "      <td>-0.662939</td>\n",
       "      <td>37.208730</td>\n",
       "      <td>2018-01-01</td>\n",
       "      <td>02:02:39</td>\n",
       "      <td>Monday</td>\n",
       "      <td>January</td>\n",
       "      <td>2018</td>\n",
       "    </tr>\n",
       "    <tr>\n",
       "      <th>2</th>\n",
       "      <td>3</td>\n",
       "      <td>2018-01-01 02:31:49</td>\n",
       "      <td>-0.662939</td>\n",
       "      <td>37.208730</td>\n",
       "      <td>2018-01-01</td>\n",
       "      <td>02:31:49</td>\n",
       "      <td>Monday</td>\n",
       "      <td>January</td>\n",
       "      <td>2018</td>\n",
       "    </tr>\n",
       "    <tr>\n",
       "      <th>3</th>\n",
       "      <td>4</td>\n",
       "      <td>2018-01-01 03:04:01</td>\n",
       "      <td>-1.288087</td>\n",
       "      <td>36.826583</td>\n",
       "      <td>2018-01-01</td>\n",
       "      <td>03:04:01</td>\n",
       "      <td>Monday</td>\n",
       "      <td>January</td>\n",
       "      <td>2018</td>\n",
       "    </tr>\n",
       "    <tr>\n",
       "      <th>4</th>\n",
       "      <td>5</td>\n",
       "      <td>2018-01-01 03:58:49</td>\n",
       "      <td>-1.188850</td>\n",
       "      <td>36.931382</td>\n",
       "      <td>2018-01-01</td>\n",
       "      <td>03:58:49</td>\n",
       "      <td>Monday</td>\n",
       "      <td>January</td>\n",
       "      <td>2018</td>\n",
       "    </tr>\n",
       "  </tbody>\n",
       "</table>\n",
       "</div>"
      ],
      "text/plain": [
       "   uid            datetime  latitude  longitude        date      time  \\\n",
       "0    1 2018-01-01 00:25:46 -1.188850  36.931382  2018-01-01  00:25:46   \n",
       "1    2 2018-01-01 02:02:39 -0.662939  37.208730  2018-01-01  02:02:39   \n",
       "2    3 2018-01-01 02:31:49 -0.662939  37.208730  2018-01-01  02:31:49   \n",
       "3    4 2018-01-01 03:04:01 -1.288087  36.826583  2018-01-01  03:04:01   \n",
       "4    5 2018-01-01 03:58:49 -1.188850  36.931382  2018-01-01  03:58:49   \n",
       "\n",
       "  day_of_week    month  year  \n",
       "0      Monday  January  2018  \n",
       "1      Monday  January  2018  \n",
       "2      Monday  January  2018  \n",
       "3      Monday  January  2018  \n",
       "4      Monday  January  2018  "
      ]
     },
     "execution_count": 2,
     "metadata": {},
     "output_type": "execute_result"
    }
   ],
   "source": [
    "# Load the data\n",
    "df = pd.read_csv('../Data/Train_mod.csv',parse_dates=['datetime'])\n",
    "print(df.shape)\n",
    "df.head()"
   ]
  },
  {
   "cell_type": "code",
   "execution_count": 3,
   "metadata": {},
   "outputs": [
    {
     "data": {
      "text/plain": [
       "<tf.Tensor 'Identity:0' shape=(6, 2) dtype=float32>"
      ]
     },
     "execution_count": 3,
     "metadata": {},
     "output_type": "execute_result"
    }
   ],
   "source": [
    "amb_loc = tf.Variable(tf.random.normal([6, 2], mean=0, stddev=1)) * 0.04\n",
    "amb_loc = amb_loc + [-1.27, 36.85]\n",
    "initial_loc = tf.identity(amb_loc)\n",
    "initial_loc"
   ]
  },
  {
   "cell_type": "code",
   "execution_count": 50,
   "metadata": {},
   "outputs": [],
   "source": [
    "X = tf.placeholder(tf.float32, [None, 1, 2])\n",
    "dist_split = X - amb_loc\n",
    "dist = tf.reduce_sum(tf.sqrt(tf.square(dist_split)), axis=2)\n",
    "min_distance = tf.reduce_min(dist, axis=1)\n",
    "cost = tf.reduce_mean(min_distance)\n",
    "learning_rate = tf.placeholder(tf.float32, [])\n",
    "optimizer = tf.train.AdamOptimizer(learning_rate).minimize(cost)"
   ]
  },
  {
   "cell_type": "code",
   "execution_count": 83,
   "metadata": {},
   "outputs": [
    {
     "name": "stdout",
     "output_type": "stream",
     "text": [
      "Epoch  0  cost =  76.134926\n",
      "Epoch  100  cost =  65.974266\n",
      "Epoch  200  cost =  55.81979\n",
      "Epoch  300  cost =  45.649944\n",
      "Epoch  400  cost =  35.480022\n",
      "Epoch  500  cost =  25.310102\n",
      "Epoch  600  cost =  15.140181\n",
      "Epoch  700  cost =  4.9702606\n",
      "Epoch  800  cost =  70.585464\n",
      "Epoch  900  cost =  60.42708\n",
      "Epoch  1000  cost =  50.26422\n"
     ]
    }
   ],
   "source": [
    "sess = tf.Session()\n",
    "sess.run(tf.global_variables_initializer())\n",
    "cost_history = []\n",
    "training_epochs = 1000\n",
    "mini_batch_size = 50\n",
    "learning_r = 0.01\n",
    "\n",
    "for epoch in range(training_epochs + 1):\n",
    "    for i in range(0, df.shape[0], mini_batch_size):\n",
    "        data_used = df[['longitude', 'latitude']].loc[i:i + mini_batch_size]\n",
    "        X_train_batch = data_used.values.reshape([-1, 1, 2])\n",
    "        sess.run(optimizer, feed_dict = {X: X_train_batch, learning_rate: learning_r})\n",
    "        cost_ = sess.run(cost, feed_dict = {X: X_train_batch})\n",
    "        cost_history.append(cost_)\n",
    "    if epoch % 100 == 0:\n",
    "        print('Epoch ', epoch, ' cost = ', cost_)\n"
   ]
  },
  {
   "cell_type": "code",
   "execution_count": 84,
   "metadata": {},
   "outputs": [
    {
     "data": {
      "text/plain": [
       "[<matplotlib.lines.Line2D at 0x1604d66ee88>]"
      ]
     },
     "execution_count": 84,
     "metadata": {},
     "output_type": "execute_result"
    },
    {
     "data": {
      "image/png": "[encoded data removed]",
      "text/plain": [
       "<Figure size 432x288 with 1 Axes>"
      ]
     },
     "metadata": {
      "needs_background": "light"
     },
     "output_type": "display_data"
    }
   ],
   "source": [
    "plt.plot(cost_history)"
   ]
  },
  {
   "cell_type": "code",
   "execution_count": 85,
   "metadata": {},
   "outputs": [
    {
     "name": "stdout",
     "output_type": "stream",
     "text": [
      "[[-1.2720486 36.874844 ]\n",
      " [-1.3235265 36.877136 ]\n",
      " [-1.2940452 36.849354 ]\n",
      " [11.743629  23.846561 ]\n",
      " [       nan -1.2718506]\n",
      " [-1.3196534 36.87564  ]]\n"
     ]
    }
   ],
   "source": [
    "print(amb_loc.eval(session = sess))"
   ]
  },
  {
   "cell_type": "markdown",
   "metadata": {},
   "source": [
    "#### Deal with minimum local cost by setting dynamic learning rate"
   ]
  },
  {
   "cell_type": "code",
   "execution_count": 95,
   "metadata": {},
   "outputs": [
    {
     "name": "stdout",
     "output_type": "stream",
     "text": [
      "Epoch  0  cost =  76.128845\n",
      "Epoch  100  cost =  65.96817\n",
      "Epoch  200  cost =  55.813747\n",
      "Epoch  300  cost =  45.643845\n",
      "Epoch  400  cost =  35.473923\n",
      "Epoch  500  cost =  25.304005\n",
      "Epoch  600  cost =  15.134084\n",
      "Epoch  700  cost =  9.620235\n",
      "Epoch  800  cost =  8.628048\n",
      "Epoch  900  cost =  7.635861\n",
      "Epoch  1000  cost =  6.6436734\n",
      "Epoch  1100  cost =  5.6514854\n",
      "Epoch  1200  cost =  4.659298\n",
      "Epoch  1300  cost =  3.667111\n",
      "Epoch  1400  cost =  2.6749234\n",
      "Epoch  1500  cost =  1.6827357\n",
      "Epoch  1600  cost =  0.69050616\n"
     ]
    }
   ],
   "source": [
    "sess = tf.Session()\n",
    "sess.run(tf.global_variables_initializer())\n",
    "cost_history = []\n",
    "training_epochs = 20000\n",
    "mini_batch_size = 50\n",
    "learning_r = 0.01\n",
    "long_lat = []\n",
    "\n",
    "for epoch in range(training_epochs + 1):\n",
    "    for i in range(0, df.shape[0], mini_batch_size):\n",
    "        data_used = df[['longitude', 'latitude']].loc[i:i + mini_batch_size]\n",
    "        X_train_batch = data_used.values.reshape([-1, 1, 2])\n",
    "        sess.run(optimizer, feed_dict = {X: X_train_batch, learning_rate: learning_r})\n",
    "        cost_ = sess.run(cost, feed_dict = {X: X_train_batch})\n",
    "        cost_history.append(cost_)\n",
    "        if cost_ / 10 <1 and learning_r == 0.01:\n",
    "            learning_r = learning_r/10\n",
    "        if cost_ < 0.5:\n",
    "            break\n",
    "    long_lat.append(amb_loc.eval(session = sess))\n",
    "    if cost_ < 0.5:\n",
    "        break\n",
    "    if epoch % 100 == 0:\n",
    "        print('Epoch ', epoch, ' cost = ', cost_)"
   ]
  },
  {
   "cell_type": "code",
   "execution_count": 88,
   "metadata": {},
   "outputs": [
    {
     "data": {
      "text/plain": [
       "[<matplotlib.lines.Line2D at 0x16053017e88>]"
      ]
     },
     "execution_count": 88,
     "metadata": {},
     "output_type": "execute_result"
    },
    {
     "data": {
      "image/png": "[encoded data removed]",
      "text/plain": [
       "<Figure size 432x288 with 1 Axes>"
      ]
     },
     "metadata": {
      "needs_background": "light"
     },
     "output_type": "display_data"
    }
   ],
   "source": [
    "plt.plot(cost_history[150000:151000])"
   ]
  },
  {
   "cell_type": "code",
   "execution_count": 92,
   "metadata": {},
   "outputs": [
    {
     "data": {
      "text/plain": [
       "array([[-1.2488365 , 36.907986  ],\n",
       "       [-1.2935271 , 36.909184  ],\n",
       "       [-1.2899802 , 36.888294  ],\n",
       "       [-1.294105  , 36.83039   ],\n",
       "       [36.60986   , -0.92639923],\n",
       "       [-1.2866377 , 36.904526  ]], dtype=float32)"
      ]
     },
     "execution_count": 92,
     "metadata": {},
     "output_type": "execute_result"
    }
   ],
   "source": [
    "amb_loc.eval(session = sess)"
   ]
  },
  {
   "cell_type": "code",
   "execution_count": 91,
   "metadata": {},
   "outputs": [
    {
     "name": "stdout",
     "output_type": "stream",
     "text": [
      "[[-1.2488365  36.907986  ]\n",
      " [-1.2935271  36.909184  ]\n",
      " [-1.2899802  36.888294  ]\n",
      " [-1.294105   36.83039   ]\n",
      " [36.60986    -0.92639923]\n",
      " [-1.2866377  36.904526  ]]\n"
     ]
    }
   ],
   "source": [
    "print(initial_loc.eval(session = sess))"
   ]
  },
  {
   "cell_type": "code",
   "execution_count": null,
   "metadata": {},
   "outputs": [],
   "source": []
  }
 ],
 "metadata": {
  "kernelspec": {
   "display_name": "Python 3",
   "language": "python",
   "name": "python3"
  },
  "language_info": {
   "codemirror_mode": {
    "name": "ipython",
    "version": 3
   },
   "file_extension": ".py",
   "mimetype": "text/x-python",
   "name": "python",
   "nbconvert_exporter": "python",
   "pygments_lexer": "ipython3",
   "version": "3.7.6"
  }
 },
 "nbformat": 4,
 "nbformat_minor": 4
}
